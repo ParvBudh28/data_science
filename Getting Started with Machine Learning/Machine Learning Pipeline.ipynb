{
 "cells": [
  {
   "cell_type": "markdown",
   "metadata": {},
   "source": [
    "# Machine Learning Pipeline\n",
    "- Data Generation/Collection\n",
    "    - web scrapping etc.\n",
    "    - sklearn\n",
    "- Data Cleaning/Feature Engineering\n",
    "    - Table\n",
    "    - Image\n",
    "    - Speech\n",
    "    - Text\n",
    "    - Dictionary\n",
    "- Algorithms to find interesting patterns\n",
    "    - Most effort goes here\n",
    "- Deployment"
   ]
  },
  {
   "cell_type": "code",
   "execution_count": null,
   "metadata": {},
   "outputs": [],
   "source": []
  }
 ],
 "metadata": {
  "kernelspec": {
   "display_name": "Python 3",
   "language": "python",
   "name": "python3"
  },
  "language_info": {
   "codemirror_mode": {
    "name": "ipython",
    "version": 3
   },
   "file_extension": ".py",
   "mimetype": "text/x-python",
   "name": "python",
   "nbconvert_exporter": "python",
   "pygments_lexer": "ipython3",
   "version": "3.8.3"
  }
 },
 "nbformat": 4,
 "nbformat_minor": 4
}
