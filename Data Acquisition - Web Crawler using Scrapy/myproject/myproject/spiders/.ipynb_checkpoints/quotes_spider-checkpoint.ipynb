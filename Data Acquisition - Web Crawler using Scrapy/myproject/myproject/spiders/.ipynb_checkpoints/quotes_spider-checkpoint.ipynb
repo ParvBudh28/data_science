{
 "cells": [
  {
   "cell_type": "code",
   "execution_count": 1,
   "metadata": {},
   "outputs": [],
   "source": [
    "import scrapy"
   ]
  },
  {
   "cell_type": "code",
   "execution_count": 2,
   "metadata": {},
   "outputs": [],
   "source": [
    "class QuotesSpider(scrapy.Spider):\n",
    "    name='quotesSpider'\n",
    "    \n",
    "    def start_requests(self):\n",
    "        urls=[\n",
    "            'http://quotes.toscrape.com/page/1/',\n",
    "            'http://quotes.toscrape.com/page/2/'\n",
    "        ]\n",
    "        # generator \n",
    "        for url in urls:\n",
    "            yield scrapy.Request(url=url, callback=self.parse)\n",
    "    \n",
    "    def parse(self,response):\n",
    "        page_id = response.url.split(\"/\")[-2]\n",
    "        filename = f\"quotes{page_id}.html\"\n",
    "        with open(filename,\"w\") as f:\n",
    "            f.write(response.body)"
   ]
  },
  {
   "cell_type": "markdown",
   "metadata": {},
   "source": [
    "## Making a json file for the output"
   ]
  },
  {
   "cell_type": "code",
   "execution_count": null,
   "metadata": {},
   "outputs": [],
   "source": [
    "class QuotesSpider(scrapy.Spider):\n",
    "    name='quotesSpider'\n",
    "    \n",
    "    def start_requests(self):\n",
    "        urls=[\n",
    "            'http://quotes.toscrape.com/page/1/',\n",
    "            'http://quotes.toscrape.com/page/2/'\n",
    "        ]\n",
    "        # generator \n",
    "        for url in urls:\n",
    "            yield scrapy.Request(url=url, callback=self.parse)\n",
    "    \n",
    "    def parse(self,response):\n",
    "#         page_id = response.url.split(\"/\")[-2]\n",
    "        \n",
    "        for q in response.css(\"div.quote\"):\n",
    "            text= q.css(\"span.text::text\").get()\n",
    "            author= q.css(\"small.author::text\").get()\n",
    "            tags= q.css(\"a.tag::text\").getall()\n",
    "            \n",
    "            yield {\n",
    "                'text':text,\n",
    "                'author':author,\n",
    "                'tags':tags\n",
    "            }\n",
    "        \n",
    "#         filename = f\"quotes{page_id}.html\"\n",
    "#         with open(filename,\"w\") as f:\n",
    "#             f.write(response.body)"
   ]
  }
 ],
 "metadata": {
  "kernelspec": {
   "display_name": "Python 3",
   "language": "python",
   "name": "python3"
  },
  "language_info": {
   "codemirror_mode": {
    "name": "ipython",
    "version": 3
   },
   "file_extension": ".py",
   "mimetype": "text/x-python",
   "name": "python",
   "nbconvert_exporter": "python",
   "pygments_lexer": "ipython3",
   "version": "3.8.3"
  }
 },
 "nbformat": 4,
 "nbformat_minor": 4
}
