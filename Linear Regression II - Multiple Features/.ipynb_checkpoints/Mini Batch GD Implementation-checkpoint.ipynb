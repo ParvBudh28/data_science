{
 "cells": [
  {
   "cell_type": "code",
   "execution_count": 1,
   "metadata": {},
   "outputs": [],
   "source": [
    "import numpy as np\n",
    "import matplotlib.pyplot as plt\n",
    "\n",
    "from sklearn.datasets import(\n",
    "    load_boston,\n",
    "    make_regression\n",
    ")"
   ]
  },
  {
   "cell_type": "code",
   "execution_count": 2,
   "metadata": {},
   "outputs": [],
   "source": [
    "import pandas as pd"
   ]
  },
  {
   "cell_type": "code",
   "execution_count": 48,
   "metadata": {},
   "outputs": [],
   "source": [
    "import time"
   ]
  },
  {
   "cell_type": "code",
   "execution_count": 5,
   "metadata": {},
   "outputs": [
    {
     "name": "stdout",
     "output_type": "stream",
     "text": [
      "(10000, 20)\n"
     ]
    }
   ],
   "source": [
    "X,y = make_regression(n_samples=10000, n_features=20,n_informative=20,noise=10,random_state=1)\n",
    "\n",
    "u = np.mean(X,axis=0)\n",
    "std = np.std(X,axis=0)\n",
    "X = (X-u)/std\n",
    "\n",
    "print(X.shape)"
   ]
  },
  {
   "cell_type": "code",
   "execution_count": 6,
   "metadata": {},
   "outputs": [],
   "source": [
    "ones = np.ones((X.shape[0],1))\n",
    "X = np.hstack((ones,X))"
   ]
  },
  {
   "cell_type": "code",
   "execution_count": 55,
   "metadata": {},
   "outputs": [],
   "source": [
    "def hypothesis(X,theta):\n",
    "    return np.dot(X,theta)\n",
    "\n",
    "\n",
    "def gradient(X,y,theta):\n",
    "    m = X.shape[0]\n",
    "    y_ = hypothesis(X,theta)\n",
    "    grad = np.dot(X.T,(y_ - y))\n",
    "    return grad/m\n",
    "\n",
    "\n",
    "def get_error(X,y,theta):\n",
    "    y_ = hypothesis(X,theta)\n",
    "    return np.sum((y_ - y)**2)/X.shape[0]\n",
    "\n",
    "\n",
    "def gradient_descent(X,y,learning_rate=0.01,max_epochs=300):\n",
    "    theta = np.zeros(X.shape[1])\n",
    "    error_list = []\n",
    "\n",
    "    for i in range(max_epochs):\n",
    "        grad = gradient(X,y,theta)\n",
    "        theta = theta - learning_rate*grad\n",
    "        \n",
    "        error = get_error(X,y,theta)\n",
    "        error_list.append(error)\n",
    "    \n",
    "    return theta,error_list\n",
    "\n",
    "\n",
    "def min_batch_gradient_descent(X,y,batch_size=200,learning_rate=0.01,max_epochs=5):\n",
    "\n",
    "    m,n = X.shape\n",
    "    \n",
    "    theta = np.zeros((n,))\n",
    "    error_list = []\n",
    "    \n",
    "    data = np.hstack((X,y.reshape(-1,1)))\n",
    "    \n",
    "    for i in range(max_epochs):\n",
    "        total_batches = m//batch_size\n",
    "        np.random.shuffle(data)\n",
    "        \n",
    "        for j in range(total_batches):\n",
    "            batch_data = data[j*batch_size:(j+1)*batch_size,:]\n",
    "            \n",
    "            x_batch = batch_data[:,:-1]\n",
    "            y_batch = batch_data[:,-1]\n",
    "            \n",
    "            grad = gradient(x_batch,y_batch,theta)\n",
    "            theta = theta - learning_rate*grad\n",
    "\n",
    "            e = get_error(x_batch,y_batch,theta)\n",
    "            error_list.append(e)\n",
    "            \n",
    "    return theta,error_list"
   ]
  },
  {
   "cell_type": "code",
   "execution_count": 56,
   "metadata": {},
   "outputs": [
    {
     "name": "stdout",
     "output_type": "stream",
     "text": [
      "0.14162111282348633\n"
     ]
    }
   ],
   "source": [
    "start = time.time()\n",
    "theta,error_list = gradient_descent(X,y)\n",
    "end = time.time()\n",
    "print(end-start)"
   ]
  },
  {
   "cell_type": "code",
   "execution_count": 57,
   "metadata": {},
   "outputs": [
    {
     "data": {
      "text/plain": [
       "[<matplotlib.lines.Line2D at 0x12686daf0>]"
      ]
     },
     "execution_count": 57,
     "metadata": {},
     "output_type": "execute_result"
    },
    {
     "data": {
      "image/png": "[encoded data removed]",
      "text/plain": [
       "<Figure size 432x288 with 1 Axes>"
      ]
     },
     "metadata": {
      "needs_background": "light"
     },
     "output_type": "display_data"
    }
   ],
   "source": [
    "plt.plot(error_list)"
   ]
  },
  {
   "cell_type": "code",
   "execution_count": 58,
   "metadata": {},
   "outputs": [
    {
     "name": "stdout",
     "output_type": "stream",
     "text": [
      "0.1069188117980957\n"
     ]
    }
   ],
   "source": [
    "start = time.time()\n",
    "theta,error_list = min_batch_gradient_descent(X,y)\n",
    "end = time.time()\n",
    "print(end-start)"
   ]
  },
  {
   "cell_type": "code",
   "execution_count": 59,
   "metadata": {},
   "outputs": [
    {
     "data": {
      "text/plain": [
       "[<matplotlib.lines.Line2D at 0x126a08820>]"
      ]
     },
     "execution_count": 59,
     "metadata": {},
     "output_type": "execute_result"
    },
    {
     "data": {
      "image/png": "[encoded data removed]",
      "text/plain": [
       "<Figure size 432x288 with 1 Axes>"
      ]
     },
     "metadata": {
      "needs_background": "light"
     },
     "output_type": "display_data"
    }
   ],
   "source": [
    "plt.plot(error_list)"
   ]
  },
  {
   "cell_type": "markdown",
   "metadata": {},
   "source": [
    "## As we can see that convergence rate is fast compared to Batch Gradient Descent but the losses are noisy\n",
    "- For SGD we can use batch_size = 1 in the mini_batch code only"
   ]
  },
  {
   "cell_type": "code",
   "execution_count": null,
   "metadata": {},
   "outputs": [],
   "source": []
  }
 ],
 "metadata": {
  "kernelspec": {
   "display_name": "Python 3",
   "language": "python",
   "name": "python3"
  },
  "language_info": {
   "codemirror_mode": {
    "name": "ipython",
    "version": 3
   },
   "file_extension": ".py",
   "mimetype": "text/x-python",
   "name": "python",
   "nbconvert_exporter": "python",
   "pygments_lexer": "ipython3",
   "version": "3.8.3"
  }
 },
 "nbformat": 4,
 "nbformat_minor": 4
}
