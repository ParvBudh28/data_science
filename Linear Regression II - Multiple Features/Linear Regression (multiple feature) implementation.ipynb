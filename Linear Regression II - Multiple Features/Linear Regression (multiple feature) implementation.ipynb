{
 "cells": [
  {
   "cell_type": "code",
   "execution_count": 32,
   "metadata": {},
   "outputs": [],
   "source": [
    "from sklearn.datasets import load_boston\n"
   ]
  },
  {
   "cell_type": "code",
   "execution_count": 33,
   "metadata": {},
   "outputs": [],
   "source": [
    "boston = load_boston()"
   ]
  },
  {
   "cell_type": "code",
   "execution_count": 34,
   "metadata": {},
   "outputs": [],
   "source": [
    "X = boston.data\n",
    "y = boston.target"
   ]
  },
  {
   "cell_type": "code",
   "execution_count": 35,
   "metadata": {},
   "outputs": [
    {
     "data": {
      "text/plain": [
       "((506, 13), (506,))"
      ]
     },
     "execution_count": 35,
     "metadata": {},
     "output_type": "execute_result"
    }
   ],
   "source": [
    "X.shape,y.shape"
   ]
  },
  {
   "cell_type": "code",
   "execution_count": 36,
   "metadata": {},
   "outputs": [],
   "source": [
    "import numpy as np"
   ]
  },
  {
   "cell_type": "code",
   "execution_count": 37,
   "metadata": {},
   "outputs": [],
   "source": [
    "# Normalise the data\n",
    "u = np.mean(X,axis=0)\n",
    "std = np.std(X,axis=0)\n",
    "X = (X-u)/std"
   ]
  },
  {
   "cell_type": "code",
   "execution_count": 38,
   "metadata": {},
   "outputs": [
    {
     "name": "stdout",
     "output_type": "stream",
     "text": [
      "(506, 1)\n"
     ]
    }
   ],
   "source": [
    "## add the row of ones for the x0 feature\n",
    "ones = np.ones((X.shape[0],1))\n",
    "print(ones.shape)"
   ]
  },
  {
   "cell_type": "code",
   "execution_count": 39,
   "metadata": {},
   "outputs": [],
   "source": [
    "X = np.hstack((ones,X))"
   ]
  },
  {
   "cell_type": "code",
   "execution_count": 40,
   "metadata": {},
   "outputs": [],
   "source": [
    "## X -> matrix\n",
    "## x -> a single vector\n",
    "\n",
    "def hypothesis(x,theta):\n",
    "    y_ = 0.0\n",
    "    n = x.shape[0]\n",
    "    \n",
    "    for i in range(n):\n",
    "        y_ += (theta[i]*x[i])\n",
    "        \n",
    "    return y_\n",
    "\n",
    "\n",
    "def gradient(X,y,theta):\n",
    "    m,n = X.shape\n",
    "    grad = np.zeros((n,))\n",
    "    \n",
    "    for j in range(n):\n",
    "        for i in range(m):\n",
    "            y_ = hypothesis(X[i],theta)\n",
    "            grad[j] += (y_ - y[i])*X[i][j]\n",
    "    \n",
    "    return grad/m\n",
    "        \n",
    "\n",
    "def get_error(X,y,theta):\n",
    "    e = 0.0\n",
    "    m = X.shape[0]\n",
    "    \n",
    "    for i in range(m):\n",
    "        y_ = hypothesis(X[i],theta)\n",
    "        e += ((y_ - y[i])**2)\n",
    "        \n",
    "    return e/m\n",
    "\n",
    "\n",
    "def gradient_descent(X,y,learning_rate=0.1,max_epochs=300):\n",
    "    m,n = X.shape\n",
    "    theta = np.zeros((n,))\n",
    "    error_list = []\n",
    "    \n",
    "    for i in range(max_epochs):\n",
    "        grad = gradient(X,y,theta)\n",
    "        for j in range(n):\n",
    "            theta[j] = theta[j] - (learning_rate*grad[j])\n",
    "        error = get_error(X,y,theta)\n",
    "        error_list.append(error)\n",
    "    \n",
    "    return theta,error_list"
   ]
  },
  {
   "cell_type": "code",
   "execution_count": 41,
   "metadata": {},
   "outputs": [],
   "source": [
    "import time"
   ]
  },
  {
   "cell_type": "code",
   "execution_count": 42,
   "metadata": {},
   "outputs": [],
   "source": [
    "start_time = time.time()\n",
    "theta,error_list = gradient_descent(X,y)\n",
    "end_time = time.time()"
   ]
  },
  {
   "cell_type": "code",
   "execution_count": 43,
   "metadata": {},
   "outputs": [
    {
     "data": {
      "text/plain": [
       "array([ 2.25328063e+01, -9.03091692e-01,  1.03815625e+00,  1.53477685e-02,\n",
       "        6.99554920e-01, -2.02101672e+00,  2.70014278e+00, -1.93085233e-03,\n",
       "       -3.10234837e+00,  2.34354753e+00, -1.72031485e+00, -2.04614394e+00,\n",
       "        8.47845679e-01, -3.73089521e+00])"
      ]
     },
     "execution_count": 43,
     "metadata": {},
     "output_type": "execute_result"
    }
   ],
   "source": [
    "theta"
   ]
  },
  {
   "cell_type": "code",
   "execution_count": 44,
   "metadata": {},
   "outputs": [
    {
     "name": "stdout",
     "output_type": "stream",
     "text": [
      "22.327587842941284\n"
     ]
    }
   ],
   "source": [
    "print(end_time-start_time)"
   ]
  },
  {
   "cell_type": "markdown",
   "metadata": {},
   "source": [
    "## Calculate R2 score on Train data"
   ]
  },
  {
   "cell_type": "code",
   "execution_count": 45,
   "metadata": {},
   "outputs": [],
   "source": [
    "y_ = []\n",
    "for i in range(X.shape[0]):\n",
    "    y_.append(hypothesis(X[i],theta))\n",
    "y_ = np.array(y_)"
   ]
  },
  {
   "cell_type": "code",
   "execution_count": 46,
   "metadata": {},
   "outputs": [],
   "source": [
    "def get_score(y_,y):\n",
    "    num = np.sum((y-y_)**2)\n",
    "    den = np.sum((y-np.mean(y))**2)\n",
    "    return (1-(num/den))*100"
   ]
  },
  {
   "cell_type": "code",
   "execution_count": 47,
   "metadata": {},
   "outputs": [
    {
     "data": {
      "text/plain": [
       "74.04541323942743"
      ]
     },
     "execution_count": 47,
     "metadata": {},
     "output_type": "execute_result"
    }
   ],
   "source": [
    "get_score(y_,y)"
   ]
  },
  {
   "cell_type": "markdown",
   "metadata": {},
   "source": [
    "### Time taken for execution using for loops"
   ]
  },
  {
   "cell_type": "code",
   "execution_count": 48,
   "metadata": {},
   "outputs": [
    {
     "name": "stdout",
     "output_type": "stream",
     "text": [
      "22.327587842941284\n"
     ]
    }
   ],
   "source": [
    "print(end_time-start_time)"
   ]
  },
  {
   "cell_type": "markdown",
   "metadata": {},
   "source": [
    "### 22 seconds for just 506 training data points this is quite slow :(\n",
    "**will be optimised using vectorisation**"
   ]
  },
  {
   "cell_type": "code",
   "execution_count": 49,
   "metadata": {},
   "outputs": [],
   "source": [
    "import matplotlib.pyplot as plt"
   ]
  },
  {
   "cell_type": "code",
   "execution_count": 51,
   "metadata": {},
   "outputs": [
    {
     "data": {
      "image/png": "[encoded data removed]",
      "text/plain": [
       "<Figure size 576x396 with 1 Axes>"
      ]
     },
     "metadata": {},
     "output_type": "display_data"
    }
   ],
   "source": [
    "plt.style.use('seaborn')\n",
    "plt.plot(error_list)\n",
    "plt.show()"
   ]
  },
  {
   "cell_type": "markdown",
   "metadata": {},
   "source": [
    "# Optimising Code using Vectorization\n",
    "**An effecient Implementation for Linear Regression using Vectorisation**\n",
    "- Avoid loops in the implementation, except gradient descent main loop\n",
    "- Use numpy functions like `np.sum()`, `np.dot()` which are quite fast and already optimised"
   ]
  },
  {
   "cell_type": "code",
   "execution_count": 52,
   "metadata": {},
   "outputs": [],
   "source": [
    "def hypothesis(X,theta):\n",
    "    return np.dot(X,theta)\n",
    "\n",
    "\n",
    "def gradient(X,y,theta):\n",
    "    m = X.shape[0]\n",
    "    y_ = hypothesis(X,theta)\n",
    "    grad = np.dot(X.T,(y_ - y))\n",
    "    return grad/m\n",
    "\n",
    "\n",
    "def get_error(X,y,theta):\n",
    "    y_ = hypothesis(X,theta)\n",
    "    return np.sum((y_ - y)**2)/X.shape[0]\n",
    "\n",
    "\n",
    "def gradient_descent(X,y,learning_rate=0.1,max_epochs=300):\n",
    "    theta = np.zeros(X.shape[1])\n",
    "    error_list = []\n",
    "\n",
    "    for i in range(max_epochs):\n",
    "        grad = gradient(X,y,theta)\n",
    "        theta = theta - learning_rate*grad\n",
    "        \n",
    "        error = get_error(X,y,theta)\n",
    "        error_list.append(error)\n",
    "    \n",
    "    return theta,error_list"
   ]
  },
  {
   "cell_type": "code",
   "execution_count": 54,
   "metadata": {},
   "outputs": [
    {
     "name": "stdout",
     "output_type": "stream",
     "text": [
      "Time taken to execute 0.027307748794555664\n"
     ]
    }
   ],
   "source": [
    "start_time = time.time()\n",
    "theta,error_list = gradient_descent(X,y)\n",
    "end_time = time.time()\n",
    "print(f\"Time taken to execute {end_time-start_time}\")"
   ]
  },
  {
   "cell_type": "code",
   "execution_count": 56,
   "metadata": {},
   "outputs": [
    {
     "data": {
      "image/png": "[encoded data removed]",
      "text/plain": [
       "<Figure size 576x396 with 1 Axes>"
      ]
     },
     "metadata": {},
     "output_type": "display_data"
    }
   ],
   "source": [
    "plt.plot(error_list)\n",
    "plt.show()"
   ]
  },
  {
   "cell_type": "code",
   "execution_count": 57,
   "metadata": {},
   "outputs": [
    {
     "data": {
      "text/plain": [
       "array([ 2.25328063e+01, -9.03091692e-01,  1.03815625e+00,  1.53477685e-02,\n",
       "        6.99554920e-01, -2.02101672e+00,  2.70014278e+00, -1.93085233e-03,\n",
       "       -3.10234837e+00,  2.34354753e+00, -1.72031485e+00, -2.04614394e+00,\n",
       "        8.47845679e-01, -3.73089521e+00])"
      ]
     },
     "execution_count": 57,
     "metadata": {},
     "output_type": "execute_result"
    }
   ],
   "source": [
    "theta"
   ]
  },
  {
   "cell_type": "code",
   "execution_count": 58,
   "metadata": {},
   "outputs": [
    {
     "name": "stdout",
     "output_type": "stream",
     "text": [
      "74.04541323942743\n"
     ]
    }
   ],
   "source": [
    "y_ = hypothesis(X,theta)\n",
    "print(get_score(y_,y))"
   ]
  },
  {
   "cell_type": "markdown",
   "metadata": {},
   "source": [
    "**we can easily see that execution time is way to less here and results are same hence code produce same results quite fast**"
   ]
  },
  {
   "cell_type": "code",
   "execution_count": null,
   "metadata": {},
   "outputs": [],
   "source": []
  }
 ],
 "metadata": {
  "kernelspec": {
   "display_name": "Python 3",
   "language": "python",
   "name": "python3"
  },
  "language_info": {
   "codemirror_mode": {
    "name": "ipython",
    "version": 3
   },
   "file_extension": ".py",
   "mimetype": "text/x-python",
   "name": "python",
   "nbconvert_exporter": "python",
   "pygments_lexer": "ipython3",
   "version": "3.8.3"
  }
 },
 "nbformat": 4,
 "nbformat_minor": 4
}
